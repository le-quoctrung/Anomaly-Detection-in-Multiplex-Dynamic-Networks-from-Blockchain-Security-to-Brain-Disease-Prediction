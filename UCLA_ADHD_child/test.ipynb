{
 "cells": [
  {
   "cell_type": "code",
   "execution_count": 2,
   "metadata": {},
   "outputs": [
    {
     "ename": "Error",
     "evalue": "iterator should return strings, not bytes (did you open the file in text mode?)",
     "output_type": "error",
     "traceback": [
      "\u001b[0;31m---------------------------------------------------------------------------\u001b[0m",
      "\u001b[0;31mError\u001b[0m                                     Traceback (most recent call last)",
      "Cell \u001b[0;32mIn[2], line 11\u001b[0m\n\u001b[1;32m      7\u001b[0m g \u001b[39m=\u001b[39m net\u001b[39m.\u001b[39mGraph()\n\u001b[1;32m      9\u001b[0m f1 \u001b[39m=\u001b[39m csv\u001b[39m.\u001b[39mreader(\u001b[39mopen\u001b[39m(\u001b[39m\"\u001b[39m\u001b[39mADHD_grp_mean_24_region_names_abbrev_file.txt\u001b[39m\u001b[39m\"\u001b[39m,\u001b[39m\"\u001b[39m\u001b[39mrb\u001b[39m\u001b[39m\"\u001b[39m))\n\u001b[0;32m---> 11\u001b[0m \u001b[39mfor\u001b[39;00m row \u001b[39min\u001b[39;00m f1: \n\u001b[1;32m     12\u001b[0m     g\u001b[39m.\u001b[39madd_nodes_from(row)\n\u001b[1;32m     14\u001b[0m \u001b[39mlen\u001b[39m(g)\n",
      "\u001b[0;31mError\u001b[0m: iterator should return strings, not bytes (did you open the file in text mode?)"
     ]
    }
   ],
   "source": [
    "import matplotlib\n",
    "import networkx as net\n",
    "import urllib\n",
    "import csv\n",
    "\n",
    "\n",
    "g = net.Graph()\n",
    "\n",
    "f1 = csv.reader(open(\"ADHD_grp_mean_24_region_names_abbrev_file.txt\",\"rb\"))\n",
    "\n",
    "for row in f1: \n",
    "    g.add_nodes_from(row)\n",
    "\n",
    "len(g)\n",
    "\n",
    "g.number_of_nodes()"
   ]
  },
  {
   "cell_type": "code",
   "execution_count": null,
   "metadata": {},
   "outputs": [],
   "source": []
  }
 ],
 "metadata": {
  "kernelspec": {
   "display_name": "NaDS",
   "language": "python",
   "name": "python3"
  },
  "language_info": {
   "codemirror_mode": {
    "name": "ipython",
    "version": 3
   },
   "file_extension": ".py",
   "mimetype": "text/x-python",
   "name": "python",
   "nbconvert_exporter": "python",
   "pygments_lexer": "ipython3",
   "version": "3.8.8"
  },
  "orig_nbformat": 4
 },
 "nbformat": 4,
 "nbformat_minor": 2
}
